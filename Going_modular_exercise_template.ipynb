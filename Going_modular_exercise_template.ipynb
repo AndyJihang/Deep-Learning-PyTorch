{
  "cells": [
    {
      "cell_type": "markdown",
      "metadata": {
        "id": "view-in-github",
        "colab_type": "text"
      },
      "source": [
        "<a href=\"https://colab.research.google.com/github/AndyJihang/Deep-Learning-PyTorch/blob/main/Going_modular_exercise_template.ipynb\" target=\"_parent\"><img src=\"https://colab.research.google.com/assets/colab-badge.svg\" alt=\"Open In Colab\"/></a>"
      ]
    },
    {
      "cell_type": "markdown",
      "metadata": {
        "id": "zNqPNlYylluR"
      },
      "source": [
        "# 05. PyTorch Going Modular Exercises\n",
        "\n",
        "Welcome to the 05. PyTorch Going Modular exercise template notebook.\n",
        "\n",
        "There are several questions in this notebook and it's your goal to answer them by writing Python and PyTorch code.\n",
        "\n",
        "> **Note:** There may be more than one solution to each of the exercises, don't worry too much about the *exact* right answer. Try to write some code that works first and then improve it if you can.\n",
        "\n",
        "## Resources and solutions\n",
        "\n",
        "* These exercises/solutions are based on [section 05. PyTorch Going Modular](https://www.learnpytorch.io/05_pytorch_going_modular/) of the Learn PyTorch for Deep Learning course by Zero to Mastery.\n",
        "\n",
        "**Solutions:**\n",
        "\n",
        "Try to complete the code below *before* looking at these.\n",
        "\n",
        "* See a live [walkthrough of the solutions (errors and all) on YouTube](https://youtu.be/ijgFhMK3pp4).\n",
        "* See an example [solutions notebook for these exercises on GitHub](https://github.com/mrdbourke/pytorch-deep-learning/blob/main/extras/solutions/05_pytorch_going_modular_exercise_solutions.ipynb)."
      ]
    },
    {
      "cell_type": "markdown",
      "metadata": {
        "id": "bicbWSrPmfTU"
      },
      "source": [
        "## 1. Turn the code to get the data (from section 1. Get Data) into a Python script, such as `get_data.py`.\n",
        "\n",
        "* When you run the script using `python get_data.py` it should check if the data already exists and skip downloading if it does.\n",
        "* If the data download is successful, you should be able to access the `pizza_steak_sushi` images from the `data` directory."
      ]
    },
    {
      "cell_type": "code",
      "execution_count": 1,
      "metadata": {
        "colab": {
          "base_uri": "https://localhost:8080/"
        },
        "id": "r0BCn1XIYZ8c",
        "outputId": "8690d06c-373b-4a3d-9946-71090fe60d59"
      },
      "outputs": [
        {
          "output_type": "stream",
          "name": "stdout",
          "text": [
            "Writing get_data.py\n"
          ]
        }
      ],
      "source": [
        "# YOUR CODE HERE\n",
        "\n",
        "%%writefile get_data.py\n",
        "\n",
        "import os\n",
        "import requests\n",
        "import zipfile\n",
        "from pathlib import Path\n",
        "\n",
        "# Setup path to data folder\n",
        "data_path = Path(\"data/\")\n",
        "image_path = data_path / \"pizza_steak_sushi\"\n",
        "\n",
        "# If the image folder doesn't exist, download it and prepare it...\n",
        "if image_path.is_dir():\n",
        "    print(f\"{image_path} directory exists.\")\n",
        "else:\n",
        "    print(f\"Did not find {image_path} directory, creating one...\")\n",
        "    image_path.mkdir(parents=True, exist_ok=True)\n",
        "\n",
        "# Download pizza, steak, sushi data\n",
        "with open(data_path / \"pizza_steak_sushi.zip\", \"wb\") as f:\n",
        "    request = requests.get(\"https://github.com/mrdbourke/pytorch-deep-learning/raw/main/data/pizza_steak_sushi.zip\")\n",
        "    print(\"Downloading pizza, steak, sushi data...\")\n",
        "    f.write(request.content)\n",
        "\n",
        "# Unzip pizza, steak, sushi data\n",
        "with zipfile.ZipFile(data_path / \"pizza_steak_sushi.zip\", \"r\") as zip_ref:\n",
        "    print(\"Unzipping pizza, steak, sushi data...\")\n",
        "    zip_ref.extractall(image_path)\n",
        "\n",
        "# Remove zip file\n",
        "os.remove(data_path / \"pizza_steak_sushi.zip\")\n"
      ]
    },
    {
      "cell_type": "code",
      "execution_count": 2,
      "metadata": {
        "colab": {
          "base_uri": "https://localhost:8080/"
        },
        "id": "_LrUOIC-YOP9",
        "outputId": "8672fb2b-1a5e-49bf-8b5c-5cf4bc2ba266"
      },
      "outputs": [
        {
          "output_type": "stream",
          "name": "stdout",
          "text": [
            "Did not find data/pizza_steak_sushi directory, creating one...\n",
            "Downloading pizza, steak, sushi data...\n",
            "Unzipping pizza, steak, sushi data...\n"
          ]
        }
      ],
      "source": [
        "# Example running of get_data.py\n",
        "!python get_data.py"
      ]
    },
    {
      "cell_type": "markdown",
      "metadata": {
        "id": "zjyn7LU3mvkR"
      },
      "source": [
        "## 2. Use [Python's `argparse` module](https://docs.python.org/3/library/argparse.html) to be able to send the `train.py` custom hyperparameter values for training procedures.\n",
        "* Add an argument flag for using a different:\n",
        "  * Training/testing directory\n",
        "  * Learning rate\n",
        "  * Batch size\n",
        "  * Number of epochs to train for\n",
        "  * Number of hidden units in the TinyVGG model\n",
        "    * Keep the default values for each of the above arguments as what they already are (as in notebook 05).\n",
        "* For example, you should be able to run something similar to the following line to train a TinyVGG model with a learning rate of 0.003 and a batch size of 64 for 20 epochs: `python train.py --learning_rate 0.003 batch_size 64 num_epochs 20`.\n",
        "* **Note:** Since `train.py` leverages the other scripts we created in section 05, such as, `model_builder.py`, `utils.py` and `engine.py`, you'll have to make sure they're available to use too. You can find these in the [`going_modular` folder on the course GitHub](https://github.com/mrdbourke/pytorch-deep-learning/tree/main/going_modular/going_modular)."
      ]
    },
    {
      "cell_type": "code",
      "execution_count": 3,
      "metadata": {
        "colab": {
          "base_uri": "https://localhost:8080/"
        },
        "id": "MKNDUp45YaW-",
        "outputId": "817b36ea-6c63-4089-e4e0-3d8d553bab6d"
      },
      "outputs": [
        {
          "output_type": "stream",
          "name": "stdout",
          "text": [
            "Writing data_setup.py\n"
          ]
        }
      ],
      "source": [
        "%%writefile data_setup.py\n",
        "\"\"\"\n",
        "Contains functionality for creating PyTorch DataLoaders for\n",
        "image classification data.\n",
        "\"\"\"\n",
        "import os\n",
        "\n",
        "from torchvision import datasets, transforms\n",
        "from torch.utils.data import DataLoader\n",
        "\n",
        "NUM_WORKERS = os.cpu_count()\n",
        "\n",
        "def create_dataloaders(\n",
        "    train_dir:str,\n",
        "    test_dir:str,\n",
        "    transform: transforms.Compose,\n",
        "    batch_size: int,\n",
        "    num_workers: int=NUM_WORKERS):\n",
        "    \"\"\"Creates training and testing DataLoaders.\n",
        "  Takes in a training directory and testing directory path and turns\n",
        "  them into PyTorch Datasets and then into PyTorch DataLoaders.\n",
        "  Args:\n",
        "    train_dir: Path to training directory.\n",
        "    test_dir: Path to testing directory.\n",
        "    transform: torchvision transforms to perform on training and testing data.\n",
        "    batch_size: Number of samples per batch in each of the DataLoaders.\n",
        "    num_workers: An integer for number of workers per DataLoader.\n",
        "  Returns:\n",
        "    A tuple of (train_dataloader, test_dataloader, class_names).\n",
        "    Where class_names is a list of the target classes.\n",
        "    Example usage:\n",
        "      train_dataloader, test_dataloader, class_names = \\\n",
        "        = create_dataloaders(train_dir=path/to/train_dir,\n",
        "                             test_dir=path/to/test_dir,\n",
        "                             transform=some_transform,\n",
        "                             batch_size=32,\n",
        "                             num_workers=4)\n",
        "    \"\"\"\n",
        "    # Use ImageFolder to create dataset(s)\n",
        "    train_data = datasets.ImageFolder(train_dir, transform=transform)\n",
        "    test_data = datasets.ImageFolder(test_dir, transform=transform)\n",
        "\n",
        "    # Get class names\n",
        "    class_names = train_data.classes\n",
        "\n",
        "    # Turn images into data loaders\n",
        "    train_dataloader = DataLoader(\n",
        "        train_data,\n",
        "        batch_size=batch_size,\n",
        "        shuffle=True,\n",
        "        num_workers=num_workers,\n",
        "        pin_memory=True,\n",
        "    )\n",
        "    test_dataloader = DataLoader(\n",
        "        test_data,\n",
        "        batch_size=batch_size,\n",
        "        shuffle=False,\n",
        "        num_workers=num_workers,\n",
        "        pin_memory=True,\n",
        "    )\n",
        "\n",
        "    return train_dataloader, test_dataloader, class_names\n"
      ]
    },
    {
      "cell_type": "code",
      "execution_count": 4,
      "metadata": {
        "colab": {
          "base_uri": "https://localhost:8080/"
        },
        "id": "Y3N4hfblfu0o",
        "outputId": "6e069cf5-d91b-4baa-b184-6184c792bfb8"
      },
      "outputs": [
        {
          "output_type": "stream",
          "name": "stdout",
          "text": [
            "Writing engine.py\n"
          ]
        }
      ],
      "source": [
        "%%writefile engine.py\n",
        "\"\"\"\n",
        "Contains functions for training and testing a PyTorch model.\n",
        "\"\"\"\n",
        "import torch\n",
        "\n",
        "from tqdm.auto import tqdm\n",
        "from typing import Dict, List, Tuple\n",
        "\n",
        "def train_step(model: torch.nn.Module,dataloader: torch.utils.data.DataLoader,loss_fn: torch.nn.Module,optimizer: torch.optim.Optimizer,device: torch.device) -> Tuple[float, float]:\n",
        "    \"\"\"Trains a PyTorch model for a single epoch.\n",
        "    Turns a target PyTorch model to training mode and then\n",
        "    runs through all of the required training steps (forward\n",
        "    pass, loss calculation, optimizer step).\n",
        "     Args:\n",
        "    model: A PyTorch model to be trained.\n",
        "    dataloader: A DataLoader instance for the model to be trained on.\n",
        "    loss_fn: A PyTorch loss function to minimize.\n",
        "    optimizer: A PyTorch optimizer to help minimize the loss function.\n",
        "    device: A target device to compute on (e.g. \"cuda\" or \"cpu\").\n",
        "    Returns:\n",
        "    A tuple of training loss and training accuracy metrics.\n",
        "    In the form (train_loss, train_accuracy). For example:\n",
        "    (0.1112, 0.8743)\n",
        "    \"\"\"\n",
        "    # Put model in train mode\n",
        "    model.train()\n",
        "\n",
        "    # Setup train loss and train accuracy values\n",
        "    train_loss, train_acc = 0, 0\n",
        "\n",
        "    # Loop through data loader data batches\n",
        "    for batch, (X,y) in enumerate(dataloader):\n",
        "        # send data to target device\n",
        "        X, y = X.to(device), y.to(device)\n",
        "\n",
        "        # 1. Forward pass\n",
        "        y_pred = model(X)\n",
        "\n",
        "        # 2. Calculate loss\n",
        "        loss = loss_fn(y_pred, y)\n",
        "        train_loss += loss.item()\n",
        "\n",
        "        # 3. zero gradient\n",
        "        optimizer.zero_grad()\n",
        "\n",
        "        # 4. Loss backward\n",
        "        loss.backward()\n",
        "\n",
        "        # 5. Update\n",
        "        optimizer.step()\n",
        "\n",
        "        # Calculate and accumulate accuracy metric across batches\n",
        "        y_pred_class = torch.argmax(torch.softmax(y_pred,dim=1),dim=1)\n",
        "        train_acc += (y_pred_class == y).sum().item() / len(y_pred)\n",
        "\n",
        "    # Adjust metrics to get average loss and accuracy metric across all batches\n",
        "    train_loss = train_loss / len(dataloader)\n",
        "    train_acc = train_acc / len(dataloader)\n",
        "    return train_loss, train_acc\n",
        "\n",
        "def test_step(model: torch.nn.Module,dataloader: torch.utils.data.DataLoader,loss_fn: torch.nn.Module,device: torch.device) -> Tuple[float, float]:\n",
        "    \"\"\"Tests a PyTorch model for a single epoch.\n",
        "    Turns a target PyTorch model to \"eval\" mode and then performs\n",
        "    a forward pass on a testing dataset.\n",
        "    Args:\n",
        "    model: A PyTorch model to be tested.\n",
        "    dataloader: A DataLoader instance for the model to be tested on.\n",
        "    loss_fn: A PyTorch loss function to calculate loss on the test data.\n",
        "    Returns:\n",
        "    A tuple of testing loss and testing accuracy metrics.\n",
        "    In the form (test_loss, test_accuracy). For example:\n",
        "    (0.0223, 0.8985)\n",
        "    \"\"\"\n",
        "\n",
        "    # Put model in eval mode\n",
        "    model.eval()\n",
        "\n",
        "    # Setup test loss and test accuracy values\n",
        "    test_loss, test_acc = 0, 0\n",
        "\n",
        "    # Turn on inference context manager\n",
        "    with torch.inference_mode():\n",
        "        for batch, (X,y) in enumerate(dataloader):\n",
        "            # Send data to target device\n",
        "            X, y = X.to(device), y.to(device)\n",
        "\n",
        "            # 1. Forward pass\n",
        "            test_pred_logits = model(X)\n",
        "\n",
        "            # 2. Calculate and accumulate loss\n",
        "            loss = loss_fn(test_pred_logits, y)\n",
        "            test_loss += loss.item()\n",
        "\n",
        "            # Calculate and accumulate accuracy\n",
        "            test_pred_labels = test_pred_logits.argmax(dim=1)\n",
        "            test_acc += (test_pred_labels==y).sum().item() / len(test_pred_labels)\n",
        "\n",
        "    # Adjust metrics to get average loss and accuracy per batch\n",
        "    test_loss = test_loss / len(dataloader)\n",
        "    test_acc = test_acc / len(dataloader)\n",
        "    return test_loss, test_acc\n",
        "\n",
        "def train(model: torch.nn.Module,train_dataloader: torch.utils.data.DataLoader,test_dataloader: torch.utils.data.DataLoader,optimizer: torch.optim.Optimizer,loss_fn: torch.nn.Module,epochs: int,device: torch.device) -> Dict[str, List]:\n",
        "    \"\"\"Trains and tests a PyTorch model.\n",
        "    Passes a target PyTorch models through train_step() and test_step()\n",
        "    functions for a number of epochs, training and testing the model\n",
        "    in the same epoch loop.\n",
        "    Calculates, prints and stores evaluation metrics throughout.\n",
        "    Args:\n",
        "    model: A PyTorch model to be trained and tested.\n",
        "    train_dataloader: A DataLoader instance for the model to be trained on.\n",
        "    test_dataloader: A DataLoader instance for the model to be tested on.\n",
        "    optimizer: A PyTorch optimizer to help minimize the loss function.\n",
        "    loss_fn: A PyTorch loss function to calculate loss on both datasets.\n",
        "    epochs: An integer indicating how many epochs to train for.\n",
        "    device: A target device to compute on (e.g. \"cuda\" or \"cpu\").\n",
        "    Returns:\n",
        "    A dictionary of training and testing loss as well as training and\n",
        "    testing accuracy metrics. Each metric has a value in a list for\n",
        "    each epoch.\n",
        "    In the form: {train_loss: [...],\n",
        "                  train_acc: [...],\n",
        "                  test_loss: [...],\n",
        "                  test_acc: [...]}\n",
        "    For example if training for epochs=2:\n",
        "                 {train_loss: [2.0616, 1.0537],\n",
        "                  train_acc: [0.3945, 0.3945],\n",
        "                  test_loss: [1.2641, 1.5706],\n",
        "                  test_acc: [0.3400, 0.2973]}\n",
        "    \"\"\"\n",
        "    # Create empty results dictionary\n",
        "    results = {\"train_loss\":[],\n",
        "               \"train_acc\":[],\n",
        "               \"test_loss\":[],\n",
        "               \"test_acc\":[]}\n",
        "\n",
        "    # Loop through training and testing steps for a number of epochs\n",
        "    for epoch in tqdm(range(epochs)):\n",
        "        train_loss, train_acc = train_step(model=model,\n",
        "                                           dataloader=train_dataloader,\n",
        "                                           loss_fn=loss_fn,\n",
        "                                           optimizer=optimizer,\n",
        "                                           device=device)\n",
        "        test_loss, test_acc = test_step(model=model,\n",
        "                                        dataloader=test_dataloader,\n",
        "                                        loss_fn=loss_fn,\n",
        "                                        device=device)\n",
        "        # Print out what's happening\n",
        "        print(\n",
        "            f\"Epoch: {epoch+1} | \"\n",
        "            f\"train_loss: {train_loss:.4f} | \"\n",
        "            f\"train_acc: {train_acc:.4f} | \"\n",
        "            f\"test_loss: {test_acc:.4f} | \"\n",
        "            f\"test_acc: {test_acc:.4f}\"\n",
        "        )\n",
        "\n",
        "        # Update results dictionary\n",
        "        results[\"train_loss\"].append(train_loss)\n",
        "        results[\"train_acc\"].append(train_acc)\n",
        "        results[\"test_loss\"].append(test_loss)\n",
        "        results[\"test_acc\"].append(test_acc)\n",
        "\n",
        "    # Return the filled results at the end of the epochs\n",
        "    return results"
      ]
    },
    {
      "cell_type": "code",
      "execution_count": 5,
      "metadata": {
        "colab": {
          "base_uri": "https://localhost:8080/"
        },
        "id": "Gt8T0BVDfy4i",
        "outputId": "b7d7891e-b7ea-444a-d3d6-7d472a3df121"
      },
      "outputs": [
        {
          "output_type": "stream",
          "name": "stdout",
          "text": [
            "Writing model_builder.py\n"
          ]
        }
      ],
      "source": [
        "%%writefile model_builder.py\n",
        "\"\"\"\n",
        "Contains PyTorch model code to instantiate a TinyVGG model.\n",
        "\"\"\"\n",
        "import torch\n",
        "from torch import nn\n",
        "\n",
        "class TinyVGG(nn.Module):\n",
        "    \"\"\"Creates the TinyVGG architecture.\n",
        "    Replicates the TinyVGG architecture from the CNN explainer website in PyTorch.\n",
        "    See the original architecture here: https://poloclub.github.io/cnn-explainer/\n",
        "    Args:\n",
        "    input_shape: An integer indicating number of input channels.\n",
        "    hidden_units: An integer indicating number of hidden units between layers.\n",
        "    output_shape: An integer indicating number of output units.\n",
        "    \"\"\"\n",
        "    def __init__(self, input_shape: int, hidden_units: int, output_shape: int) -> None:\n",
        "        super().__init__()\n",
        "        self.conv_block_1 = nn.Sequential(\n",
        "            nn.Conv2d(in_channels=input_shape,\n",
        "                      out_channels=hidden_units,\n",
        "                      kernel_size=3,\n",
        "                      stride=1,\n",
        "                      padding=0),\n",
        "            nn.ReLU(),\n",
        "            nn.Conv2d(in_channels=hidden_units,\n",
        "                      out_channels=hidden_units,\n",
        "                      kernel_size=3,\n",
        "                      stride=1,\n",
        "                      padding=0),\n",
        "            nn.ReLU(),\n",
        "            nn.MaxPool2d(kernel_size=2,\n",
        "                         stride=2)\n",
        "        )\n",
        "        self.conv_block_2 = nn.Sequential(\n",
        "            nn.Conv2d(hidden_units, hidden_units, kernel_size=3, padding=0),\n",
        "            nn.ReLU(),\n",
        "            nn.Conv2d(hidden_units, hidden_units, kernel_size=3, padding=0),\n",
        "            nn.ReLU(),\n",
        "            nn.MaxPool2d(2)\n",
        "        )\n",
        "        self.classifier = nn.Sequential(\n",
        "            nn.Flatten(),\n",
        "            # Where did this in_features shape come from?\n",
        "            # It's because each layer of our network compresses and changes the shape of our inputs data.\n",
        "            nn.Linear(in_features=hidden_units*13*13,\n",
        "                      out_features=output_shape)\n",
        "        )\n",
        "    def forward(self, x: torch.Tensor):\n",
        "        x = self.conv_block_1(x)\n",
        "        x = self.conv_block_2(x)\n",
        "        x = self.classifier(x)\n",
        "        return x"
      ]
    },
    {
      "cell_type": "code",
      "execution_count": 6,
      "metadata": {
        "colab": {
          "base_uri": "https://localhost:8080/"
        },
        "id": "AJTRIjIQf3fI",
        "outputId": "c57ddb4b-45f6-4897-a1ae-b37a2704fd6d"
      },
      "outputs": [
        {
          "output_type": "stream",
          "name": "stdout",
          "text": [
            "Writing utils.py\n"
          ]
        }
      ],
      "source": [
        "%%writefile utils.py\n",
        "\"\"\"\n",
        "File containing various utility functions for PyTorch model training.\n",
        "\"\"\"\n",
        "import torch\n",
        "from pathlib import Path\n",
        "\n",
        "def save_model(model: torch.nn.Module,\n",
        "               target_dir: str,\n",
        "               model_name: str):\n",
        "    \"\"\"Saves a PyTorch model to a target directory.\n",
        "    Args:\n",
        "    model: A target PyTorch model to save.\n",
        "    target_dir: A directory for saving the model to.\n",
        "    model_name: A filename for the saved model. Should include\n",
        "      either \".pth\" or \".pt\" as the file extension.\n",
        "    Example usage:\n",
        "    save_model(model=model_0,\n",
        "               target_dir=\"models\",\n",
        "               model_name=\"05_going_modular_tingvgg_model.pth\")\n",
        "    \"\"\"\n",
        "    # Create target directory\n",
        "    target_dir_path = Path(target_dir)\n",
        "    target_dir_path.mkdir(parents=True,\n",
        "                        exist_ok=True)\n",
        "\n",
        "    # Create model save path\n",
        "    assert model_name.endswith(\".pth\") or model_name.endswith(\".pt\"), \"model_name should end with '.pt' or '.pth'\"\n",
        "    model_save_path = target_dir_path / model_name\n",
        "\n",
        "    # Save the model state_dict()\n",
        "    print(f\"[INFO] Saving model to: {model_save_path}\")\n",
        "    torch.save(obj=model.state_dict(),\n",
        "             f=model_save_path)"
      ]
    },
    {
      "cell_type": "code",
      "execution_count": 7,
      "metadata": {
        "colab": {
          "base_uri": "https://localhost:8080/"
        },
        "id": "gUP7sFV-f6hf",
        "outputId": "762e390d-12a9-4c10-c516-a0c770a3e6eb"
      },
      "outputs": [
        {
          "output_type": "stream",
          "name": "stdout",
          "text": [
            "Writing train.py\n"
          ]
        }
      ],
      "source": [
        "%%writefile train.py\n",
        "\"\"\"\n",
        "Trains a PyTorch image classification model using device-agnostic code.\n",
        "\"\"\"\n",
        "import os\n",
        "import argparse\n",
        "import torch\n",
        "from torchvision import transforms\n",
        "import data_setup, engine, model_builder, utils\n",
        "\n",
        "# Create a parser\n",
        "parser = argparse.ArgumentParser(description=\"Get some hyperparameters.\")\n",
        "\n",
        "# Get an arg for num_epoch\n",
        "parser.add_argument(\"--num_epochs\",\n",
        "                    default=10,\n",
        "                    type=int,\n",
        "                    help=\"the number of epochs to train for\")\n",
        "\n",
        "# Get an arg for batch_size\n",
        "parser.add_argument(\"--batch_size\",\n",
        "                    default=32,\n",
        "                    type=int,\n",
        "                    help=\"number of samples per batch\")\n",
        "\n",
        "# Get an arg for hidden units\n",
        "parser.add_argument(\"--hidden_units\",\n",
        "                    default=10,\n",
        "                    type=int,\n",
        "                    help=\"number of hidden units in hidden layers\")\n",
        "\n",
        "# Get an arg for learning rate\n",
        "parser.add_argument(\"--learning_rate\",\n",
        "                    default=0.001,\n",
        "                    type=float,\n",
        "                    help=\"learning rate to use for model\")\n",
        "\n",
        "# Create an arg for test directory\n",
        "parser.add_argument(\"--test_dir\",\n",
        "                    default=\"data/pizza_steak_sushi/test\",\n",
        "                    type=str,\n",
        "                    help=\"directory file path to use for testing\")\n",
        "\n",
        "# Get our arguments from the parser\n",
        "args = parser.parse_args()\n",
        "\n",
        "# Setup hyperparameters\n",
        "NUM_EPOCHS = args.num_epochs\n",
        "BATCH_SIZE = args.batch_size\n",
        "HIDDEN_UNITS = args.hidden_units\n",
        "LEARNING_RATE = args.learning_rate\n",
        "print(f\"[INFO] Training a model for {NUM_EPOCHS} epochs with batch size {BATCH_SIZE} using {HIDDEN_UNITS} hidden units and a learning rate of {LEARNING_RATE}\")\n",
        "\n",
        "# Setup directories\n",
        "train_dir = args.test_dir\n",
        "test_dir = args.test_dir\n",
        "print(f\"[INFO] Training data file: {train_dir}\")\n",
        "print(f\"[INFO] Testing data file: {test_dir}\")\n",
        "\n",
        "# Setup target device\n",
        "device = \"cuda\" if torch.cuda.is_available() else \"cpu\"\n",
        "\n",
        "# Create transforms\n",
        "data_transform = transforms.Compose([\n",
        "    transforms.Resize((64, 64)),\n",
        "    transforms.ToTensor()\n",
        "])\n",
        "\n",
        "# Create DataLoaders with help from data_setup.py\n",
        "train_dataloader, test_dataloader, class_names = data_setup.create_dataloaders(\n",
        "    train_dir=train_dir,\n",
        "    test_dir=test_dir,\n",
        "    transform=data_transform,\n",
        "    batch_size=BATCH_SIZE\n",
        ")\n",
        "\n",
        "# Create model with help from model_builder.py\n",
        "model = model_builder.TinyVGG(\n",
        "    input_shape=3,\n",
        "    hidden_units=HIDDEN_UNITS,\n",
        "    output_shape=len(class_names)\n",
        ").to(device)\n",
        "\n",
        "# Set loss and optimizer\n",
        "loss_fn = torch.nn.CrossEntropyLoss()\n",
        "optimizer = torch.optim.Adam(model.parameters(),\n",
        "                             lr=LEARNING_RATE)\n",
        "\n",
        "# Start training with help from engine.py\n",
        "engine.train(model=model,\n",
        "             train_dataloader=train_dataloader,\n",
        "             test_dataloader=test_dataloader,\n",
        "             loss_fn=loss_fn,\n",
        "             optimizer=optimizer,\n",
        "             epochs=NUM_EPOCHS,\n",
        "             device=device)\n",
        "\n",
        "# Save the model with help from utils.py\n",
        "utils.save_model(model=model,\n",
        "                 target_dir=\"models\",\n",
        "                 model_name=\"05_going_modular_script_mode_tinyvgg_model.pth\")\n"
      ]
    },
    {
      "cell_type": "code",
      "execution_count": 14,
      "metadata": {
        "colab": {
          "base_uri": "https://localhost:8080/"
        },
        "id": "LzaJl39lC40N",
        "outputId": "611c9d5e-cd8c-43db-9d98-a46397bf42a5"
      },
      "outputs": [
        {
          "output_type": "stream",
          "name": "stdout",
          "text": [
            "[INFO] Training a model for 50 epochs with batch size 128 using 128 hidden units and a learning rate of 0.001\n",
            "[INFO] Training data file: data/pizza_steak_sushi/test\n",
            "[INFO] Testing data file: data/pizza_steak_sushi/test\n",
            "  0% 0/50 [00:00<?, ?it/s]Epoch: 1 | train_loss: 1.0972 | train_acc: 0.4133 | test_loss: 0.4133 | test_acc: 0.4133\n",
            "  2% 1/50 [00:00<00:46,  1.04it/s]Epoch: 2 | train_loss: 1.1108 | train_acc: 0.4133 | test_loss: 0.3333 | test_acc: 0.3333\n",
            "  4% 2/50 [00:01<00:37,  1.28it/s]Epoch: 3 | train_loss: 1.0905 | train_acc: 0.3333 | test_loss: 0.4667 | test_acc: 0.4667\n",
            "  6% 3/50 [00:02<00:34,  1.38it/s]Epoch: 4 | train_loss: 1.0829 | train_acc: 0.4667 | test_loss: 0.4133 | test_acc: 0.4133\n",
            "  8% 4/50 [00:02<00:32,  1.43it/s]Epoch: 5 | train_loss: 1.0644 | train_acc: 0.4133 | test_loss: 0.4133 | test_acc: 0.4133\n",
            " 10% 5/50 [00:03<00:30,  1.47it/s]Epoch: 6 | train_loss: 1.0548 | train_acc: 0.4133 | test_loss: 0.4133 | test_acc: 0.4133\n",
            " 12% 6/50 [00:04<00:29,  1.48it/s]Epoch: 7 | train_loss: 1.0303 | train_acc: 0.4133 | test_loss: 0.5867 | test_acc: 0.5867\n",
            " 14% 7/50 [00:04<00:28,  1.49it/s]Epoch: 8 | train_loss: 0.9869 | train_acc: 0.5867 | test_loss: 0.5067 | test_acc: 0.5067\n",
            " 16% 8/50 [00:05<00:28,  1.50it/s]Epoch: 9 | train_loss: 0.9461 | train_acc: 0.5067 | test_loss: 0.6000 | test_acc: 0.6000\n",
            " 18% 9/50 [00:06<00:27,  1.50it/s]Epoch: 10 | train_loss: 0.8791 | train_acc: 0.6000 | test_loss: 0.6400 | test_acc: 0.6400\n",
            " 20% 10/50 [00:06<00:26,  1.51it/s]Epoch: 11 | train_loss: 0.8146 | train_acc: 0.6400 | test_loss: 0.6400 | test_acc: 0.6400\n",
            " 22% 11/50 [00:07<00:25,  1.51it/s]Epoch: 12 | train_loss: 0.8096 | train_acc: 0.6400 | test_loss: 0.5467 | test_acc: 0.5467\n",
            " 24% 12/50 [00:08<00:27,  1.37it/s]Epoch: 13 | train_loss: 0.9603 | train_acc: 0.5467 | test_loss: 0.7333 | test_acc: 0.7333\n",
            " 26% 13/50 [00:09<00:29,  1.25it/s]Epoch: 14 | train_loss: 0.7023 | train_acc: 0.7333 | test_loss: 0.6267 | test_acc: 0.6267\n",
            " 28% 14/50 [00:10<00:28,  1.26it/s]Epoch: 15 | train_loss: 0.8236 | train_acc: 0.6267 | test_loss: 0.7200 | test_acc: 0.7200\n",
            " 30% 15/50 [00:10<00:26,  1.32it/s]Epoch: 16 | train_loss: 0.6616 | train_acc: 0.7200 | test_loss: 0.6933 | test_acc: 0.6933\n",
            " 32% 16/50 [00:11<00:24,  1.37it/s]Epoch: 17 | train_loss: 0.6709 | train_acc: 0.6933 | test_loss: 0.7067 | test_acc: 0.7067\n",
            " 34% 17/50 [00:12<00:23,  1.41it/s]Epoch: 18 | train_loss: 0.6709 | train_acc: 0.7067 | test_loss: 0.7733 | test_acc: 0.7733\n",
            " 36% 18/50 [00:12<00:22,  1.44it/s]Epoch: 19 | train_loss: 0.6068 | train_acc: 0.7733 | test_loss: 0.7867 | test_acc: 0.7867\n",
            " 38% 19/50 [00:13<00:21,  1.45it/s]Epoch: 20 | train_loss: 0.5480 | train_acc: 0.7867 | test_loss: 0.7867 | test_acc: 0.7867\n",
            " 40% 20/50 [00:14<00:20,  1.47it/s]Epoch: 21 | train_loss: 0.5218 | train_acc: 0.7867 | test_loss: 0.8133 | test_acc: 0.8133\n",
            " 42% 21/50 [00:14<00:19,  1.48it/s]Epoch: 22 | train_loss: 0.4698 | train_acc: 0.8133 | test_loss: 0.8933 | test_acc: 0.8933\n",
            " 44% 22/50 [00:15<00:18,  1.49it/s]Epoch: 23 | train_loss: 0.3950 | train_acc: 0.8933 | test_loss: 0.8667 | test_acc: 0.8667\n",
            " 46% 23/50 [00:16<00:18,  1.50it/s]Epoch: 24 | train_loss: 0.3582 | train_acc: 0.8667 | test_loss: 0.8800 | test_acc: 0.8800\n",
            " 48% 24/50 [00:16<00:17,  1.50it/s]Epoch: 25 | train_loss: 0.3066 | train_acc: 0.8800 | test_loss: 0.9067 | test_acc: 0.9067\n",
            " 50% 25/50 [00:17<00:16,  1.51it/s]Epoch: 26 | train_loss: 0.2340 | train_acc: 0.9067 | test_loss: 0.9333 | test_acc: 0.9333\n",
            " 52% 26/50 [00:18<00:15,  1.52it/s]Epoch: 27 | train_loss: 0.1934 | train_acc: 0.9333 | test_loss: 0.9600 | test_acc: 0.9600\n",
            " 54% 27/50 [00:18<00:15,  1.52it/s]Epoch: 28 | train_loss: 0.1320 | train_acc: 0.9600 | test_loss: 0.9600 | test_acc: 0.9600\n",
            " 56% 28/50 [00:19<00:14,  1.52it/s]Epoch: 29 | train_loss: 0.1190 | train_acc: 0.9600 | test_loss: 0.9733 | test_acc: 0.9733\n",
            " 58% 29/50 [00:20<00:14,  1.42it/s]Epoch: 30 | train_loss: 0.0773 | train_acc: 0.9733 | test_loss: 0.9867 | test_acc: 0.9867\n",
            " 60% 30/50 [00:21<00:15,  1.29it/s]Epoch: 31 | train_loss: 0.0482 | train_acc: 0.9867 | test_loss: 0.9867 | test_acc: 0.9867\n",
            " 62% 31/50 [00:22<00:15,  1.23it/s]Epoch: 32 | train_loss: 0.0452 | train_acc: 0.9867 | test_loss: 1.0000 | test_acc: 1.0000\n",
            " 64% 32/50 [00:22<00:13,  1.30it/s]Epoch: 33 | train_loss: 0.0248 | train_acc: 1.0000 | test_loss: 1.0000 | test_acc: 1.0000\n",
            " 66% 33/50 [00:23<00:12,  1.36it/s]Epoch: 34 | train_loss: 0.0149 | train_acc: 1.0000 | test_loss: 1.0000 | test_acc: 1.0000\n",
            " 68% 34/50 [00:24<00:11,  1.40it/s]Epoch: 35 | train_loss: 0.0096 | train_acc: 1.0000 | test_loss: 1.0000 | test_acc: 1.0000\n",
            " 70% 35/50 [00:24<00:10,  1.38it/s]Epoch: 36 | train_loss: 0.0130 | train_acc: 1.0000 | test_loss: 1.0000 | test_acc: 1.0000\n",
            " 72% 36/50 [00:25<00:09,  1.42it/s]Epoch: 37 | train_loss: 0.0067 | train_acc: 1.0000 | test_loss: 1.0000 | test_acc: 1.0000\n",
            " 74% 37/50 [00:26<00:08,  1.45it/s]Epoch: 38 | train_loss: 0.0055 | train_acc: 1.0000 | test_loss: 1.0000 | test_acc: 1.0000\n",
            " 76% 38/50 [00:26<00:08,  1.47it/s]Epoch: 39 | train_loss: 0.0026 | train_acc: 1.0000 | test_loss: 1.0000 | test_acc: 1.0000\n",
            " 78% 39/50 [00:27<00:07,  1.48it/s]Epoch: 40 | train_loss: 0.0027 | train_acc: 1.0000 | test_loss: 1.0000 | test_acc: 1.0000\n",
            " 80% 40/50 [00:28<00:06,  1.48it/s]Epoch: 41 | train_loss: 0.0031 | train_acc: 1.0000 | test_loss: 1.0000 | test_acc: 1.0000\n",
            " 82% 41/50 [00:28<00:06,  1.49it/s]Epoch: 42 | train_loss: 0.0023 | train_acc: 1.0000 | test_loss: 1.0000 | test_acc: 1.0000\n",
            " 84% 42/50 [00:29<00:05,  1.49it/s]Epoch: 43 | train_loss: 0.0012 | train_acc: 1.0000 | test_loss: 1.0000 | test_acc: 1.0000\n",
            " 86% 43/50 [00:30<00:04,  1.50it/s]Epoch: 44 | train_loss: 0.0007 | train_acc: 1.0000 | test_loss: 1.0000 | test_acc: 1.0000\n",
            " 88% 44/50 [00:30<00:03,  1.50it/s]Epoch: 45 | train_loss: 0.0005 | train_acc: 1.0000 | test_loss: 1.0000 | test_acc: 1.0000\n",
            " 90% 45/50 [00:31<00:03,  1.49it/s]Epoch: 46 | train_loss: 0.0004 | train_acc: 1.0000 | test_loss: 1.0000 | test_acc: 1.0000\n",
            " 92% 46/50 [00:32<00:02,  1.44it/s]Epoch: 47 | train_loss: 0.0003 | train_acc: 1.0000 | test_loss: 1.0000 | test_acc: 1.0000\n",
            " 94% 47/50 [00:33<00:02,  1.30it/s]Epoch: 48 | train_loss: 0.0002 | train_acc: 1.0000 | test_loss: 1.0000 | test_acc: 1.0000\n",
            " 96% 48/50 [00:34<00:01,  1.22it/s]Epoch: 49 | train_loss: 0.0002 | train_acc: 1.0000 | test_loss: 1.0000 | test_acc: 1.0000\n",
            " 98% 49/50 [00:34<00:00,  1.29it/s]Epoch: 50 | train_loss: 0.0001 | train_acc: 1.0000 | test_loss: 1.0000 | test_acc: 1.0000\n",
            "100% 50/50 [00:35<00:00,  1.41it/s]\n",
            "[INFO] Saving model to: models/05_going_modular_script_mode_tinyvgg_model.pth\n"
          ]
        }
      ],
      "source": [
        "# Example running of train.py\n",
        "!python train.py --num_epochs 50 --batch_size 128 --hidden_units 128 --learning_rate 0.001"
      ]
    },
    {
      "cell_type": "markdown",
      "metadata": {
        "id": "P2g6EEYvm-46"
      },
      "source": [
        "## 3. Create a Python script to predict (such as `predict.py`) on a target image given a file path with a saved model.\n",
        "\n",
        "* For example, you should be able to run the command `python predict.py some_image.jpeg` and have a trained PyTorch model predict on the image and return its prediction.\n",
        "* To see example prediction code, check out the [predicting on a custom image section in notebook 04](https://www.learnpytorch.io/04_pytorch_custom_datasets/#113-putting-custom-image-prediction-together-building-a-function).\n",
        "* You may also have to write code to load in a trained model."
      ]
    },
    {
      "cell_type": "code",
      "execution_count": 15,
      "metadata": {
        "colab": {
          "base_uri": "https://localhost:8080/"
        },
        "id": "HU7W6VZfYawP",
        "outputId": "9c148260-12f9-4f2d-95f8-a4acde85c2be"
      },
      "outputs": [
        {
          "output_type": "stream",
          "name": "stdout",
          "text": [
            "Overwriting predict.py\n"
          ]
        }
      ],
      "source": [
        "# YOUR CODE HERE\n",
        "%%writefile predict.py\n",
        "import torch\n",
        "import torchvision\n",
        "from torchvision import transforms\n",
        "import argparse\n",
        "import sys\n",
        "\n",
        "import model_builder\n",
        "\n",
        "# Creating a parser\n",
        "parser = argparse.ArgumentParser()\n",
        "\n",
        "# Get an image path\n",
        "parser.add_argument(\"--image\",\n",
        "                    help=\"target image filepath to predict on\")\n",
        "\n",
        "# Get a model path\n",
        "parser.add_argument(\"--model_path\",\n",
        "                    default=\"models/05_going_modular_script_mode_tinyvgg_model.pth\",\n",
        "                    type=str,\n",
        "                    help=\"target model to use for prediction filepath\")\n",
        "\n",
        "# Get our arguments from the parser\n",
        "args, unknown = parser.parse_known_args() # Use parse_known_args()\n",
        "\n",
        "# Setup class names\n",
        "class_names = [\"pizza\", \"steak\", \"sushi\"]\n",
        "\n",
        "# Setup device\n",
        "device = \"cuda\" if torch.cuda.is_available() else \"cpu\"\n",
        "\n",
        "# Get the image path\n",
        "IMG_PATH = args.image\n",
        "print(f\"[INFO] Predicting on {IMG_PATH}\")\n",
        "\n",
        "# Function to load in the model\n",
        "def load_model(filepath=args.model_path):\n",
        "    # Need to use same hyperparameters as saved model\n",
        "    model = model_builder.TinyVGG(input_shape=3,\n",
        "                                    hidden_units=128,\n",
        "                                    output_shape=3).to(device)\n",
        "\n",
        "    print(f\"[INFO] Loading in model from: {filepath}\")\n",
        "    # Load in the saved model state dictionary from file\n",
        "    model.load_state_dict(torch.load(filepath))\n",
        "\n",
        "    return model\n",
        "\n",
        "# Function to load in model + predict on select image\n",
        "def predict_on_image(image_path=IMG_PATH, filepath=args.model_path):\n",
        "\n",
        "    # Load the model\n",
        "    model = load_model(filepath)\n",
        "\n",
        "    #Load in the image and turn it into torch.float32 (same type as model)\n",
        "    image = torchvision.io.read_image(str(IMG_PATH)).type(torch.float32)\n",
        "\n",
        "    # Preprocess the image to get it between 0 and 1\n",
        "    image = image / 255.\n",
        "\n",
        "    # Resize the image to be the same size as the model\n",
        "    transform = transforms.Resize(size=(64, 64))\n",
        "    image = transform(image)\n",
        "\n",
        "    # Predict on image\n",
        "    model.eval()\n",
        "    with torch.inference_mode():\n",
        "        # Add an extra dimension to image (model requires samples in [batch_size, color_channels, height, width])\n",
        "        image = image.to(device)\n",
        "\n",
        "        # Get pred logits\n",
        "        pred_logits = model(image.unsqueeze(dim=0)) # make sure image has batch dimension (shape: [batch_size, height, width, color_channels])\n",
        "        pred_probs = torch.softmax(pred_logits, dim=1)\n",
        "\n",
        "        # Get pred labels\n",
        "        pred_label = torch.argmax(pred_probs, dim=1)\n",
        "        pred_label_class = class_names[pred_label]\n",
        "    print(f\"[INFO] Pred class: {pred_label_class}, Pred prob: {pred_probs.max():.3f}\")\n",
        "\n",
        "predict_on_image()"
      ]
    },
    {
      "cell_type": "code",
      "execution_count": 18,
      "metadata": {
        "colab": {
          "base_uri": "https://localhost:8080/"
        },
        "id": "Zcvw9sitIn6r",
        "outputId": "27632721-86dc-479c-cdf6-4f3e484ce270"
      },
      "outputs": [
        {
          "output_type": "stream",
          "name": "stdout",
          "text": [
            "[INFO] Predicting on data/pizza_steak_sushi/test/steak/100274.jpg\n",
            "[INFO] Loading in model from: models/05_going_modular_script_mode_tinyvgg_model.pth\n",
            "[INFO] Pred class: steak, Pred prob: 1.000\n"
          ]
        }
      ],
      "source": [
        "# Example running of predict.py\n",
        "!python predict.py --image data/pizza_steak_sushi/test/steak/100274.jpg"
      ]
    }
  ],
  "metadata": {
    "accelerator": "GPU",
    "colab": {
      "provenance": [],
      "include_colab_link": true
    },
    "kernelspec": {
      "display_name": "Python 3",
      "name": "python3"
    },
    "language_info": {
      "name": "python"
    }
  },
  "nbformat": 4,
  "nbformat_minor": 0
}